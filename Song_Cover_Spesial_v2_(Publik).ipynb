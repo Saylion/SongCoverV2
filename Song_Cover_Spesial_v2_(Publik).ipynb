{
  "cells": [
    {
      "cell_type": "markdown",
      "metadata": {
        "id": "view-in-github",
        "colab_type": "text"
      },
      "source": [
        "<a href=\"https://colab.research.google.com/github/Saylion/SongCoverV2/blob/main/Song_Cover_Spesial_v2_(Publik).ipynb\" target=\"_parent\"><img src=\"https://colab.research.google.com/assets/colab-badge.svg\" alt=\"Open In Colab\"/></a>"
      ]
    },
    {
      "cell_type": "markdown",
      "metadata": {
        "id": "LRoUW_fn2oUn"
      },
      "source": [
        "<center>\n",
        "<font face=\"verdana\"><font size=\"8\"<strong>SELAMAT DATANG DI SONG COVER COLAB</strong></font>\n",
        "<font face=\"verdana\"><p align=\"center\"><i>Last update at : 9 February 2024</i></p>\n",
        "<img src=\"https://www.gambaranimasi.org/data/media/562/animasi-bergerak-garis-0091.gif\" border=\"0\" height=\"8\" width=\"850\">\n",
        "<br>\n",
        "<br>\n",
        "\n",
        "Jika ada saran atau error, bisa langsung menghubungi email berikut\n",
        "<a href=\"mailto:iacorporation.business@gmail.com\" alt=\"my email\">email me</a>\n",
        "\n",
        "<i>If you have any suggestions or errors,  you can directly contact the following email\n",
        "<a href=\"mailto:iacorporation.business@gmail.com\" alt=\"my email\">email me</a></i>\n",
        "</center>\n",
        "\n",
        "<hr>\n",
        "\n",
        "Google colab collection :\n",
        "<ul>\n",
        "  <li>Song Inference by AICoverGen (modded)</li>\n",
        "\n",
        "<a href=\"https://colab.research.google.com/drive/1HBlZT3sLJi0m7IveocHYhwPWIzyyages\"><img src=\"https://colab.research.google.com/assets/colab-badge.svg\"></a>\n",
        "</ul>\n",
        "<br><br><br><br>"
      ]
    },
    {
      "cell_type": "code",
      "execution_count": null,
      "metadata": {
        "id": "ipEDrqOtlrWo",
        "cellView": "form"
      },
      "outputs": [],
      "source": [
        "#@title Input Form\n",
        "mode = \"inference\" #@param [\"inference\", \"training\"]\n",
        "#@markdown fill modelname if training/resume training\n",
        "MODELNAME = \"Your_model\"  #@param {type:\"string\"}\n",
        "\n",
        "import sys\n",
        "import time\n",
        "!pip install colorama &> /dev/null\n",
        "from colorama import Fore, Back, Style\n",
        "\n",
        "if MODELNAME == \"Your_model\":\n",
        "   print(\"\\n\")\n",
        "   print(Back.RED, Fore.WHITE + \"\\033[1mMasukkan nama model dengan benar!\\033[0m\",\"\\n\" + Style.RESET_ALL)\n",
        "   print(\"Nama model\", \"\\033[1m\", MODELNAME, \"\\033[0madalah template\\n\")\n",
        "   print(\"Menghentikan runtime...\\n\")\n",
        "   time.sleep(3)\n",
        "\n",
        "   raise SystemExit('Runtime berhenti!')\n",
        "\n",
        "else:\n",
        "    print(\"Mode di set ke :\", mode)\n",
        "    print(\"Nama model :\", MODELNAME)"
      ]
    },
    {
      "cell_type": "code",
      "execution_count": null,
      "metadata": {
        "id": "U8hSgTI_0rzj",
        "cellView": "form"
      },
      "outputs": [],
      "source": [
        "#@title Mount Drive\n",
        "from google.colab import drive\n",
        "drive.mount('/content/drive')"
      ]
    },
    {
      "cell_type": "code",
      "execution_count": null,
      "metadata": {
        "cellView": "form",
        "id": "Blddstjil744"
      },
      "outputs": [],
      "source": [
        "#@title Cloning Requirements\n",
        "!git clone https://github.com/Saylion/Songcover.git\n",
        "!cp -r /content/drive/MyDrive/RVC/weights/* /content/Songcover/assets/weights\n",
        "!mkdir -p /content/Songcover/logs/{MODELNAME}\n",
        "!cp -r /content/drive/MyDrive/RVC/{MODELNAME}/* /content/Songcover/logs/{MODELNAME}\n",
        "%cd /content/Songcover"
      ]
    },
    {
      "cell_type": "code",
      "execution_count": null,
      "metadata": {
        "cellView": "form",
        "id": "3rzrgaOmppnq"
      },
      "outputs": [],
      "source": [
        "#@title Install Requirement\n",
        "import subprocess\n",
        "from tqdm import tqdm\n",
        "\n",
        "requirements = open('requirements.txt', 'r').readlines()\n",
        "requirements = [req.strip() for req in requirements]\n",
        "\n",
        "with tqdm(total=len(requirements) + 2, desc='Installing requirements', ncols=70) as pbar:\n",
        "    for req in requirements:\n",
        "        subprocess.run(['pip', 'install', req], stdout=subprocess.DEVNULL, stderr=subprocess.DEVNULL)\n",
        "        pbar.update(1)\n",
        "\n",
        "    subprocess.run(f'pip uninstall gradio -y', shell=True, stdout=subprocess.DEVNULL, stderr=subprocess.DEVNULL)\n",
        "    pbar.update(1)\n",
        "    subprocess.run('pip install gradio', shell=True, stdout=subprocess.DEVNULL, stderr=subprocess.DEVNULL)\n",
        "    pbar.update(1)\n",
        "\n",
        "print('\\n\\nAll Requirements has been installed')\n",
        "\n",
        "!python download_model.py"
      ]
    },
    {
      "cell_type": "markdown",
      "metadata": {
        "id": "J-e1bvPq7pQR"
      },
      "source": [
        "<strong>PANDUAN ATAS DIBAN NYA GRADIO DARI COLAB INI</strong>\n",
        "<br>\n",
        "<ul>\n",
        "<li>Jalankan code dibawah ini seperti biasa\n",
        "<li>Tunggu sampai keluar link dengan domain <i>loca.lt</i>\n",
        "<li>Copy IP yang ditampilkan dan klik linknya\n",
        "<li>Paste ip sebelumnya ke kolom yang disediakan kemudian submit\n",
        "</ul><br>\n"
      ]
    },
    {
      "cell_type": "code",
      "execution_count": null,
      "metadata": {
        "id": "hAg3xMhJ08hd",
        "cellView": "form"
      },
      "outputs": [],
      "source": [
        "#@title Run Web\n",
        "#%cd /content/Songcover\n",
        "\n",
        "!npm install -g localtunnel\n",
        "\n",
        "import subprocess\n",
        "import threading\n",
        "import time\n",
        "import socket\n",
        "import urllib.request\n",
        "def iframe_thread(port):\n",
        "    while True:\n",
        "        time.sleep(0.5)\n",
        "        sock = socket.socket(socket.AF_INET, socket.SOCK_STREAM)\n",
        "        result = sock.connect_ex(('127.0.0.1', port))\n",
        "        if result == 0:\n",
        "            break\n",
        "        sock.close()\n",
        "\n",
        "        from colorama import Fore, Style\n",
        "\n",
        "    p = subprocess.Popen([\"lt\", \"--port\", \"{}\".format(port)], stdout=subprocess.PIPE)\n",
        "    for line in p.stdout:\n",
        "        print(\"\\n-------------------------------------------------------------------------\")\n",
        "        print(Fore.GREEN + \"\\nLocaltunnel Endpoint IP is:\", Fore.RED, urllib.request.urlopen('https://ipv4.icanhazip.com').read().decode('utf8').strip(\"\\n\"),Style.RESET_ALL)\n",
        "        print(\"\\n\", line.decode())\n",
        "        print(\"\\n-------------------------------------------------------------------------\")\n",
        "threading.Thread(target=iframe_thread, daemon=True, args=(7860,)).start()\n",
        "\n",
        "# %load_ext tensorboard\n",
        "# %tensorboard --logdir /content/Songcover/logs\n",
        "\n",
        "!python3 infer-web.py --colab --pycmd python3"
      ]
    },
    {
      "cell_type": "code",
      "execution_count": null,
      "metadata": {
        "id": "34_ZvkbY4LRZ",
        "cellView": "form"
      },
      "outputs": [],
      "source": [
        "\n",
        "\n",
        "#@title Copy Training Result to Drive\n",
        "if mode == \"training\":\n",
        "  !mkdir -p /content/drive/MyDrive/RVC/{MODELNAME}\n",
        "  !mkdir -p /content/drive/MyDrive/RVC/weights\n",
        "\n",
        "  !cp /content/Songcover/logs/{MODELNAME}/G_*.pth /content/drive/MyDrive/RVC/{MODELNAME}\n",
        "  !cp /content/Songcover/logs/{MODELNAME}/D_*.pth /content/drive/MyDrive/RVC/{MODELNAME}\n",
        "  !cp /content/Songcover/logs/{MODELNAME}/added_*.index /content/drive/MyDrive/RVC/{MODELNAME}\n",
        "  !cp /content/Songcover/logs/{MODELNAME}/trained*.index /content/drive/MyDrive/RVC/{MODELNAME}\n",
        "  !cp /content/Songcover/logs/{MODELNAME}/total_*.npy /content/drive/MyDrive/RVC/{MODELNAME}\n",
        "\n",
        "  !cp /content/Songcover/assets/weights/{MODELNAME}.pth /content/drive/MyDrive/RVC/weights/{MODELNAME}.pth\n",
        "\n",
        "  print(\"Hasil sudah di pindahkan ke Drive\")\n",
        "elif mode == \"inference\":\n",
        "  print(\"Mode di set ke inference, melewati sesi ini\")"
      ]
    }
  ],
  "metadata": {
    "accelerator": "GPU",
    "colab": {
      "provenance": [],
      "include_colab_link": true
    },
    "kernelspec": {
      "display_name": "Python 3",
      "name": "python3"
    },
    "language_info": {
      "name": "python"
    }
  },
  "nbformat": 4,
  "nbformat_minor": 0
}